{
 "cells": [
  {
   "cell_type": "code",
   "execution_count": 3,
   "metadata": {
    "collapsed": true
   },
   "outputs": [],
   "source": [
    "from __future__ import print_function\n",
    "import numpy as np\n",
    "import json\n",
    "import glob \n",
    "import matplotlib\n",
    "import numpy as np\n",
    "import matplotlib.pyplot as plt\n",
    "%matplotlib inline"
   ]
  },
  {
   "cell_type": "code",
   "execution_count": 4,
   "metadata": {
    "collapsed": false
   },
   "outputs": [],
   "source": [
    "recipes = []\n",
    "path = 'jsons\\chunk*.json'   \n",
    "files=glob.glob(path)   \n",
    "for file in files: \n",
    "    with open(file) as f:\n",
    "        for line in f:\n",
    "            recipes.append(json.loads(line))"
   ]
  },
  {
   "cell_type": "markdown",
   "metadata": {},
   "source": [
    "# Statistics"
   ]
  },
  {
   "cell_type": "markdown",
   "metadata": {},
   "source": [
    "### Dataset Basic Information"
   ]
  },
  {
   "cell_type": "code",
   "execution_count": 5,
   "metadata": {
    "collapsed": false
   },
   "outputs": [
    {
     "name": "stdout",
     "output_type": "stream",
     "text": [
      "There are 1020 recipes in this dataset\n"
     ]
    }
   ],
   "source": [
    "print(\"There are {} recipes in this dataset\".format(len(recipes)))"
   ]
  },
  {
   "cell_type": "code",
   "execution_count": 6,
   "metadata": {
    "collapsed": false
   },
   "outputs": [
    {
     "name": "stdout",
     "output_type": "stream",
     "text": [
      "<type 'dict'>\n"
     ]
    }
   ],
   "source": [
    "print(type(recipes[0]))"
   ]
  },
  {
   "cell_type": "code",
   "execution_count": 7,
   "metadata": {
    "collapsed": false,
    "scrolled": true
   },
   "outputs": [
    {
     "name": "stdout",
     "output_type": "stream",
     "text": [
      "[u'rating', u'code', u'name', u'servings', u'calories', u'reviews', u'num_reviews', u'tag', u'steps', u'time', u'tips', u'ing', u'desc']\n"
     ]
    }
   ],
   "source": [
    "print(recipes[0].keys())"
   ]
  },
  {
   "cell_type": "markdown",
   "metadata": {},
   "source": [
    "### Most Popular Ingredients"
   ]
  },
  {
   "cell_type": "code",
   "execution_count": 8,
   "metadata": {
    "collapsed": true
   },
   "outputs": [],
   "source": [
    "from collections import Counter"
   ]
  },
  {
   "cell_type": "code",
   "execution_count": 9,
   "metadata": {
    "collapsed": false
   },
   "outputs": [],
   "source": [
    "all_ings = [ing for ings in [recipe['ing'] for recipe in recipes] for ing in ings]\n",
    "count = Counter(all_ings)\n",
    "top_n =  count.most_common(10)"
   ]
  },
  {
   "cell_type": "code",
   "execution_count": 10,
   "metadata": {
    "collapsed": false
   },
   "outputs": [
    {
     "name": "stdout",
     "output_type": "stream",
     "text": [
      "The top 10 most commonly used ingredients are: \n",
      "\n",
      "(u'1/2 teaspoon salt', 123)\n",
      "(u'1 teaspoon salt', 113)\n",
      "(u'2 eggs', 100)\n",
      "(u'1 teaspoon vanilla extract', 92)\n",
      "(u'salt and pepper to taste', 88)\n",
      "(u'1 egg', 80)\n",
      "(u'1/4 teaspoon salt', 71)\n",
      "(u'1 teaspoon baking soda', 65)\n",
      "(u'1 cup white sugar', 64)\n",
      "(u'2 cups all-purpose flour', 46)\n"
     ]
    }
   ],
   "source": [
    "print (\"The top 10 most commonly used ingredients are: \\n\\n{}\".format\n",
    "       (\"\\n\".join(str(ing) for ing in top_n)))"
   ]
  },
  {
   "cell_type": "markdown",
   "metadata": {},
   "source": [
    "* Potential Challenge/To Do: Format ingredients to separate quantity/actual ingredient"
   ]
  },
  {
   "cell_type": "markdown",
   "metadata": {},
   "source": [
    "### Rating Distribution"
   ]
  },
  {
   "cell_type": "code",
   "execution_count": 11,
   "metadata": {
    "collapsed": false
   },
   "outputs": [
    {
     "data": {
      "image/png": "[encoded data removed]",
      "text/plain": [
       "<matplotlib.figure.Figure at 0x6b5cf60>"
      ]
     },
     "metadata": {},
     "output_type": "display_data"
    }
   ],
   "source": [
    "plt.hist([y['rating'] for y in recipes],bins= 50)\n",
    "plt.title(\"Rating Distribution\")\n",
    "plt.xlabel(\"Rating\")\n",
    "plt.ylabel(\"# of Recipes\")\n",
    "plt.show()"
   ]
  },
  {
   "cell_type": "markdown",
   "metadata": {},
   "source": [
    "* Potential Challenge/To Do: It seems as though our dataset only consists of recipes that already have high ratings. We need to expand our dataset in order to avoid selection bias."
   ]
  },
  {
   "cell_type": "markdown",
   "metadata": {},
   "source": [
    "### Cooking Time Distribution"
   ]
  },
  {
   "cell_type": "code",
   "execution_count": 17,
   "metadata": {
    "collapsed": true
   },
   "outputs": [],
   "source": [
    "import math"
   ]
  },
  {
   "cell_type": "code",
   "execution_count": 21,
   "metadata": {
    "collapsed": false
   },
   "outputs": [
    {
     "data": {
      "image/png": "[encoded data removed]",
      "text/plain": [
       "<matplotlib.figure.Figure at 0x2bbd7c88>"
      ]
     },
     "metadata": {},
     "output_type": "display_data"
    }
   ],
   "source": [
    "plt.hist([math.log(y['time']) for y in recipes if (y['time'] != -1)])\n",
    "plt.title(\"Cooking Time Distribution\")\n",
    "plt.xlabel(\"Log Cooking Time\")\n",
    "plt.ylabel(\"# of Recipes\")\n",
    "plt.show()"
   ]
  },
  {
   "cell_type": "markdown",
   "metadata": {},
   "source": [
    "* Probably a bug in the code thats encoding the times inconsistently. Discarded values over 1000 for now but still not making sense. Should take this plot out."
   ]
  },
  {
   "cell_type": "markdown",
   "metadata": {},
   "source": [
    "### Number of Reviews Distribution"
   ]
  },
  {
   "cell_type": "code",
   "execution_count": 279,
   "metadata": {
    "collapsed": false
   },
   "outputs": [
    {
     "data": {
      "image/png": "[encoded data removed]",
      "text/plain": [
       "<matplotlib.figure.Figure at 0x4fccf240>"
      ]
     },
     "metadata": {},
     "output_type": "display_data"
    }
   ],
   "source": [
    "plt.hist([len(y['reviews']) for y in recipes], bins = 50, log = True)\n",
    "plt.title(\"Distribution of Number of Reviews\")\n",
    "plt.xlabel(\"# of Reviews\")\n",
    "plt.ylabel(\"# of Recipes\")\n",
    "plt.show()"
   ]
  },
  {
   "cell_type": "markdown",
   "metadata": {},
   "source": [
    "* The cutoff for maximum reviews seems to be 1000\n",
    "* Why is the bin for 500 reviews empty...?\n",
    "* Number of reviews seem pretty evenly distributed throughout the recipes. "
   ]
  },
  {
   "cell_type": "code",
   "execution_count": null,
   "metadata": {
    "collapsed": true
   },
   "outputs": [],
   "source": []
  }
 ],
 "metadata": {
  "kernelspec": {
   "display_name": "Python 2",
   "language": "python",
   "name": "python2"
  },
  "language_info": {
   "codemirror_mode": {
    "name": "ipython",
    "version": 2
   },
   "file_extension": ".py",
   "mimetype": "text/x-python",
   "name": "python",
   "nbconvert_exporter": "python",
   "pygments_lexer": "ipython2",
   "version": "2.7.11"
  }
 },
 "nbformat": 4,
 "nbformat_minor": 0
}
