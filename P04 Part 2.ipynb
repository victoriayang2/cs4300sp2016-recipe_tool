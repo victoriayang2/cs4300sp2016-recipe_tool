{
 "cells": [
  {
   "cell_type": "code",
   "execution_count": 90,
   "metadata": {
    "collapsed": true
   },
   "outputs": [],
   "source": [
    "from __future__ import print_function\n",
    "import numpy as np\n",
    "import json\n",
    "import glob \n",
    "import matplotlib\n",
    "import numpy as np\n",
    "import matplotlib.pyplot as plt\n",
    "from nltk.tokenize import TreebankWordTokenizer\n",
    "from sklearn.feature_extraction.text import TfidfVectorizer\n",
    "from scipy import sparse, io\n",
    "%matplotlib inline"
   ]
  },
  {
   "cell_type": "code",
   "execution_count": 5,
   "metadata": {
    "collapsed": false
   },
   "outputs": [],
   "source": [
    "recipes = []\n",
    "path = 'jsons/parsed*.json'   \n",
    "files=glob.glob(path)   \n",
    "for file in files: \n",
    "    with open(file) as f:\n",
    "        for line in f:\n",
    "            recipes.append(json.loads(line))"
   ]
  },
  {
   "cell_type": "markdown",
   "metadata": {},
   "source": [
    "# Statistics"
   ]
  },
  {
   "cell_type": "markdown",
   "metadata": {},
   "source": [
    "### Dataset Basic Information"
   ]
  },
  {
   "cell_type": "code",
   "execution_count": 47,
   "metadata": {
    "collapsed": false
   },
   "outputs": [
    {
     "name": "stdout",
     "output_type": "stream",
     "text": [
      "There are 4693 recipes in this dataset\n"
     ]
    }
   ],
   "source": [
    "print(\"There are {} recipes in this dataset\".format(len(recipes)))"
   ]
  },
  {
   "cell_type": "code",
   "execution_count": 48,
   "metadata": {
    "collapsed": false
   },
   "outputs": [
    {
     "name": "stdout",
     "output_type": "stream",
     "text": [
      "<type 'dict'>\n"
     ]
    }
   ],
   "source": [
    "print(type(recipes[0]))"
   ]
  },
  {
   "cell_type": "code",
   "execution_count": 49,
   "metadata": {
    "collapsed": false,
    "scrolled": true
   },
   "outputs": [
    {
     "name": "stdout",
     "output_type": "stream",
     "text": [
      "[u'rating', u'code', u'name', u'amounts', u'servings', u'calories', u'reviews', u'num_reviews', u'verbs', u'steps', u'time', u'tag', u'tips', u'ing', u'desc']\n"
     ]
    }
   ],
   "source": [
    "print(recipes[0].keys())"
   ]
  },
  {
   "cell_type": "markdown",
   "metadata": {},
   "source": [
    "### Most Popular Ingredients"
   ]
  },
  {
   "cell_type": "code",
   "execution_count": 50,
   "metadata": {
    "collapsed": true
   },
   "outputs": [],
   "source": [
    "from collections import Counter"
   ]
  },
  {
   "cell_type": "code",
   "execution_count": 51,
   "metadata": {
    "collapsed": false
   },
   "outputs": [],
   "source": [
    "all_ings = [ing for ings in [recipe['ing'] for recipe in recipes] for ing in ings]\n",
    "count = Counter(all_ings)\n",
    "top_n =  count.most_common(10)"
   ]
  },
  {
   "cell_type": "code",
   "execution_count": 52,
   "metadata": {
    "collapsed": false
   },
   "outputs": [
    {
     "name": "stdout",
     "output_type": "stream",
     "text": [
      "The top 10 most commonly used ingredients are: \n",
      "\n",
      "(u'salt', 1728)\n",
      "(u'butter', 1471)\n",
      "(u'white sugar', 1327)\n",
      "(u'all-purpose flour', 1212)\n",
      "(u'egg', 1204)\n",
      "(u'milk', 910)\n",
      "(u'vanilla extract', 820)\n",
      "(u'garlic', 807)\n",
      "(u'olive oil', 596)\n",
      "(u'vegetable oil', 556)\n"
     ]
    }
   ],
   "source": [
    "print (\"The top 10 most commonly used ingredients are: \\n\\n{}\".format\n",
    "       (\"\\n\".join(str(ing) for ing in top_n)))"
   ]
  },
  {
   "cell_type": "markdown",
   "metadata": {},
   "source": [
    "* Potential Challenge/To Do: Format ingredients to separate quantity/actual ingredient"
   ]
  },
  {
   "cell_type": "markdown",
   "metadata": {},
   "source": [
    "### Rating Distribution"
   ]
  },
  {
   "cell_type": "code",
   "execution_count": 53,
   "metadata": {
    "collapsed": false
   },
   "outputs": [
    {
     "data": {
      "image/png": "[encoded data removed]",
      "text/plain": [
       "<matplotlib.figure.Figure at 0x14ede3110>"
      ]
     },
     "metadata": {},
     "output_type": "display_data"
    }
   ],
   "source": [
    "plt.hist([y['rating'] for y in recipes],bins= 50)\n",
    "plt.title(\"Rating Distribution\")\n",
    "plt.xlabel(\"Rating\")\n",
    "plt.ylabel(\"# of Recipes\")\n",
    "plt.show()"
   ]
  },
  {
   "cell_type": "markdown",
   "metadata": {},
   "source": [
    "* Potential Challenge/To Do: It seems as though our dataset only consists of recipes that already have high ratings. We need to expand our dataset in order to avoid selection bias."
   ]
  },
  {
   "cell_type": "markdown",
   "metadata": {},
   "source": [
    "### Cooking Time Distribution"
   ]
  },
  {
   "cell_type": "code",
   "execution_count": 54,
   "metadata": {
    "collapsed": true
   },
   "outputs": [],
   "source": [
    "import math"
   ]
  },
  {
   "cell_type": "code",
   "execution_count": 55,
   "metadata": {
    "collapsed": false
   },
   "outputs": [
    {
     "data": {
      "image/png": "[encoded data removed]",
      "text/plain": [
       "<matplotlib.figure.Figure at 0x12055fb10>"
      ]
     },
     "metadata": {},
     "output_type": "display_data"
    }
   ],
   "source": [
    "plt.hist([math.log(y['time']) for y in recipes if (y['time'] != -1)])\n",
    "plt.title(\"Cooking Time Distribution\")\n",
    "plt.xlabel(\"Log Cooking Time\")\n",
    "plt.ylabel(\"# of Recipes\")\n",
    "plt.show()"
   ]
  },
  {
   "cell_type": "markdown",
   "metadata": {},
   "source": [
    "* Probably a bug in the code thats encoding the times inconsistently. Discarded values over 1000 for now but still not making sense. Should take this plot out."
   ]
  },
  {
   "cell_type": "markdown",
   "metadata": {},
   "source": [
    "### Number of Reviews Distribution"
   ]
  },
  {
   "cell_type": "code",
   "execution_count": 56,
   "metadata": {
    "collapsed": false,
    "scrolled": true
   },
   "outputs": [
    {
     "data": {
      "image/png": "[encoded data removed]",
      "text/plain": [
       "<matplotlib.figure.Figure at 0x14f9d3dd0>"
      ]
     },
     "metadata": {},
     "output_type": "display_data"
    }
   ],
   "source": [
    "plt.hist([len(y['reviews']) for y in recipes], bins = 50, log = True)\n",
    "plt.title(\"Distribution of Number of Reviews\")\n",
    "plt.xlabel(\"# of Reviews\")\n",
    "plt.ylabel(\"# of Recipes\")\n",
    "plt.show()"
   ]
  },
  {
   "cell_type": "markdown",
   "metadata": {},
   "source": [
    "* The cutoff for maximum reviews seems to be 1000\n",
    "* Why is the bin for 500 reviews empty...?\n",
    "* Number of reviews seem pretty evenly distributed throughout the recipes. "
   ]
  },
  {
   "cell_type": "markdown",
   "metadata": {
    "collapsed": true
   },
   "source": [
    "### Length of Recipe Distribution "
   ]
  },
  {
   "cell_type": "code",
   "execution_count": 57,
   "metadata": {
    "collapsed": false
   },
   "outputs": [
    {
     "data": {
      "image/png": "[encoded data removed]",
      "text/plain": [
       "<matplotlib.figure.Figure at 0x14fc41b10>"
      ]
     },
     "metadata": {},
     "output_type": "display_data"
    }
   ],
   "source": [
    "plt.hist([len(y['steps']) for y in recipes],bins= 10)\n",
    "plt.title(\"Length of Recipe Distribution\")\n",
    "plt.xlabel(\"Number of Steps in Recipe\")\n",
    "plt.ylabel(\"# of Recipes\")\n",
    "plt.show()"
   ]
  },
  {
   "cell_type": "markdown",
   "metadata": {
    "collapsed": true
   },
   "source": [
    "## Building the Baseline Model"
   ]
  },
  {
   "cell_type": "markdown",
   "metadata": {},
   "source": [
    "### Inverted Index"
   ]
  },
  {
   "cell_type": "code",
   "execution_count": 281,
   "metadata": {
    "collapsed": false
   },
   "outputs": [],
   "source": [
    "#dictionary of recipe name to recipe ingredients\n",
    "recipe_ingredients = {}\n",
    "for recipe in recipes:\n",
    "    recipe_ingredients[recipe['name']] = recipe['ing']\n",
    "\n",
    "id_to_name = {}\n",
    "\n",
    "\n",
    "#inverted index of ingredient to doc IDs\n",
    "inverted_index = {}\n",
    "for i in range(len(recipes)):\n",
    "    for ing in recipes[i]['ing']:\n",
    "        if ing in inverted_index:\n",
    "            recipe_indices = [x for x in inverted_index[ing]]\n",
    "            if i in recipe_indices:\n",
    "                continue\n",
    "            else:\n",
    "                inverted_index[ing].append(i)\n",
    "        else:\n",
    "            inverted_index[ing]=[i]\n",
    "            \n",
    "idf = {}\n",
    "for ing in inverted_index.keys():\n",
    "    num_docs = len(inverted_index[ing])\n",
    "    idf[ing] = math.log(len(recipes)/float(1+num_docs),2)\n",
    "    \n",
    "norms = np.zeros(len(recipes))\n",
    "for i in range(len(recipes)):\n",
    "    norm = 0\n",
    "    for ing in inverted_index.keys():\n",
    "        for doc in inverted_index[ing]:\n",
    "            if i == doc:\n",
    "                norm = norm + (idf[ing])**2\n",
    "    norms[i] = math.sqrt(norm)"
   ]
  },
  {
   "cell_type": "code",
   "execution_count": 286,
   "metadata": {
    "collapsed": false
   },
   "outputs": [],
   "source": [
    "#performs a search based on cosine similarity\n",
    "def index_search(query, index, idf, norms, recipes):\n",
    "    results = {}\n",
    "    query_toks = query.split(\",\")\n",
    "    norm_q = 0\n",
    "    for ing in query_toks:      \n",
    "        if ing not in index.keys():\n",
    "            continue\n",
    "        else:\n",
    "            norm_q = norm_q + (idf[ing])**2\n",
    "            for doc in index[ing]:              \n",
    "                score = idf[ing] * idf[ing]\n",
    "                if doc in results.keys():\n",
    "                    results[doc] = results[doc] + score\n",
    "                else:\n",
    "                    results[doc] = score\n",
    "    #normalizing\n",
    "    for doc in results:\n",
    "        results[doc] = results[doc]/(float(norms[doc])*(math.sqrt(norm_q)))\n",
    "    #sorting\n",
    "    results = sorted(results.items(), key=lambda x: x[1], reverse=True) \n",
    "    results = map (lambda t: (t[1], t[0]), results)\n",
    "    new_results = []\n",
    "    for (score, doc_id) in results:\n",
    "        if score != 0:\n",
    "            new_results.append(recipes[doc_id])\n",
    "    return new_results"
   ]
  },
  {
   "cell_type": "code",
   "execution_count": 287,
   "metadata": {
    "collapsed": true
   },
   "outputs": [],
   "source": [
    "# Some of the recipe names contain non-unicode characters which throw errors \n",
    "# so must be checked before applying edit distance\n",
    "def _edit(query, msg):\n",
    "    try:\n",
    "        query = str(query).lower()\n",
    "    except UnicodeEncodeError:\n",
    "        query = (query.encode('utf8')).lower()\n",
    "    \n",
    "    try:\n",
    "        msg = str(msg).lower()\n",
    "    except UnicodeEncodeError:\n",
    "        msg = (msg.encode('utf8')).lower()\n",
    "        \n",
    "    return Levenshtein.distance(query, msg)"
   ]
  },
  {
   "cell_type": "code",
   "execution_count": 288,
   "metadata": {
    "collapsed": true
   },
   "outputs": [],
   "source": [
    "# Returns list of tuples (edit_distance,recipe) ordered by edit distance from input recipes\n",
    "def find_similar(q,transcripts):\n",
    "    result = []\n",
    "    for transcript in transcripts:\n",
    "        m = transcript['name']\n",
    "        result.append(((_edit(q, m)), transcript))\n",
    "    return sorted(result, key=lambda tup: tup[0])"
   ]
  },
  {
   "cell_type": "code",
   "execution_count": 299,
   "metadata": {
    "collapsed": true
   },
   "outputs": [],
   "source": [
    "def find_recipes(i,r):\n",
    "# takes string of ingredients and/or recipes\n",
    "\n",
    "# use both or have different modules to see which one is better\n",
    "# return the resultant recipe list json that should be parsed\n",
    "\n",
    "# if recipe(s) given compute similarity of recipe names using edit distance\n",
    "    transcripts = recipes\n",
    "\n",
    "    if r != '':\n",
    "        rec_list = r.split(\",\")\n",
    "        recipes_r = [r for l in [find_similar(rec,transcripts) for rec in rec_list] for r in l]\n",
    "        recipes_r = [r[1] for r in sorted(recipes_r, key=lambda tup: tup[0])]\n",
    "\n",
    "# if ingredient(s) given compute cosine similarity of recipes  \n",
    "    if i != '':\n",
    "        recipes_i = index_search(i,inverted_index,idf,norms,transcripts)\n",
    "     \n",
    "    if r !='' and i !='':\n",
    "        #i_ids = [i['code'] for i in recipes_i]\n",
    "        #ranked_recipes = [r for r in recipes_r if r['code'] in i_ids]\n",
    "        ranked_recipes = recipes_i\n",
    "      \n",
    "    if r == '':\n",
    "        ranked_recipes = recipes_i\n",
    "    \n",
    "    if i == '':\n",
    "        ranked_recipes = recipes_r\n",
    "   \n",
    "    return ranked_recipes"
   ]
  },
  {
   "cell_type": "code",
   "execution_count": 58,
   "metadata": {
    "collapsed": false
   },
   "outputs": [],
   "source": [
    "recipe_index_to_name = {i:name for i,name in enumerate(r['name'] for r in recipes)}\n",
    "recipe_name_to_index = {name:i for i,name in recipe_index_to_name.iteritems()}\n",
    "recipe_index_to_verbs = {i:verbs for i,verbs in enumerate(r['verbs'] for r in recipes)}\n",
    "recipe_index_to_ing = {i:ing for i,ing in enumerate(r['ing'] for r in recipes)}\n",
    "tokenizer = TreebankWordTokenizer()"
   ]
  },
  {
   "cell_type": "code",
   "execution_count": 65,
   "metadata": {
    "collapsed": false
   },
   "outputs": [],
   "source": [
    "def title_sim(recipes):\n",
    "    title_sims = np.empty([len(recipes), len(recipes)], dtype = np.float32)\n",
    "    for i in range(len(recipes)):\n",
    "        for j in range(i, len(recipes)):\n",
    "            if i == j:\n",
    "                title_sims[i][j] = 1\n",
    "                title_sims[j][i] = 1\n",
    "            else:\n",
    "                name1 = recipe_index_to_name[i]\n",
    "                name2 = recipe_index_to_name[j]\n",
    "                coeff = recipe_comp(name1, name2)\n",
    "                title_sims[i][j] = coeff[0]\n",
    "                title_sims[j][i] = coeff[0]\n",
    "    return title_sims     "
   ]
  },
  {
   "cell_type": "code",
   "execution_count": 66,
   "metadata": {
    "collapsed": false
   },
   "outputs": [],
   "source": [
    "def verb_sim(recipes):\n",
    "    verb_sims = np.empty([len(recipes), len(recipes)], dtype = np.float32)\n",
    "    for i in range(len(recipes)):\n",
    "        for j in range(i, len(recipes)):\n",
    "            if i == j:\n",
    "                verb_sims[i][j] = 1\n",
    "                verb_sims[j][i] = 1\n",
    "            else:\n",
    "                name1 = recipe_index_to_name[i]\n",
    "                name2 = recipe_index_to_name[j]\n",
    "                coeff = recipe_comp(name1, name2)\n",
    "                verb_sims[i][j] = coeff[1]\n",
    "                verb_sims[j][i] = coeff[1]\n",
    "    return verb_sims"
   ]
  },
  {
   "cell_type": "code",
   "execution_count": 67,
   "metadata": {
    "collapsed": false
   },
   "outputs": [],
   "source": [
    "def ing_sim(recipes):\n",
    "    ing_sims = np.empty([len(recipes), len(recipes)], dtype = np.float32)\n",
    "    for i in range(len(recipes)):\n",
    "        for j in range(i, len(recipes)):\n",
    "            if i == j:\n",
    "                ing_sims[i][j] = 1\n",
    "                ing_sims[j][i] = 1\n",
    "            else:\n",
    "                name1 = recipe_index_to_name[i]\n",
    "                name2 = recipe_index_to_name[j]\n",
    "                coeff = recipe_comp(name1, name2)\n",
    "                ing_sims[i][j] = coeff[2]\n",
    "                ing_sims[j][i] = coeff[2]\n",
    "    return ing_sims"
   ]
  },
  {
   "cell_type": "code",
   "execution_count": 91,
   "metadata": {
    "collapsed": false
   },
   "outputs": [],
   "source": [
    "def custom_tokenizer(terms):\n",
    "    return terms.split(\",\")\n",
    "\n",
    "n_feats = 5000\n",
    "tfidf_vec = TfidfVectorizer(binary=True, norm=None, use_idf=False, smooth_idf=False, tokenizer=custom_tokenizer,\n",
    "                            stop_words='english',max_df=0.8, min_df=10, max_features=n_feats)\n",
    "\n",
    "all_verbs = [\",\".join(rec['verbs']) for rec in recipes]\n",
    "recipe_by_verbs = tfidf_vec.fit_transform(all_verbs)\n",
    "verbs_by_recipe = sparse.csr_matrix.transpose(recipe_by_verbs)\n",
    "all_titles = [\",\".join(rec['name']) for rec in recipes]\n",
    "recipe_by_titles = tfidf_vec.fit_transform(all_titles)\n",
    "titles_by_recipe = sparse.csr_matrix.transpose(recipe_by_titles)"
   ]
  },
  {
   "cell_type": "code",
   "execution_count": null,
   "metadata": {
    "collapsed": true
   },
   "outputs": [],
   "source": []
  },
  {
   "cell_type": "code",
   "execution_count": null,
   "metadata": {
    "collapsed": true
   },
   "outputs": [],
   "source": [
    "def recipe_comp(name1, name2):\n",
    "    \"\"\" \n",
    "    Input: two recipe names\n",
    "    Returns: a list of length 3 \n",
    "    [same title coefficient, shared verbs (from recipe instructions) coefficient, \n",
    "    shared ingredients coefficient]\n",
    "    \"\"\"   \n",
    "    coefficients = []\n",
    "    index1 = recipe_name_to_index[name1]\n",
    "    index2 = recipe_name_to_index[name2]\n",
    "    #calculating title coefficient\n",
    "    common_words = ['a', 'and', 'the', 'on', 'with', 'in', 's']\n",
    "    toks_1 = set([w for w in tokenizer.tokenize(name1) if w not in common_words])\n",
    "    toks_2 = set([w for w in tokenizer.tokenize(name2) if w not in common_words])\n",
    "    inter = toks_1.intersection(toks_2)\n",
    "    union = toks_1.union(toks_2)\n",
    "    coefficients.append(len(inter)/float(len(union)+1))\n",
    "    #calculating shared verbs coefficient\n",
    "    verbs1 = set(recipe_index_to_verbs[index1])\n",
    "    verbs2 = set(recipe_index_to_verbs[index2])\n",
    "    inter_verb = verbs1.intersection(verbs2)\n",
    "    union_verb = verbs1.union(verbs2)\n",
    "    coefficients.append(len(inter_verb)/float(len(union_verb)+1))\n",
    "    #calculating shared ingredients coefficient\n",
    "    ing1 = set(recipe_index_to_ing[index1])\n",
    "    ing2 = set(recipe_index_to_ing[index2])\n",
    "    inter_ing = ing1.intersection(ing2)\n",
    "    union_ing = ing1.union(ing2)\n",
    "    coefficients.append(len(inter_ing)/float(len(union_ing)+1))\n",
    "    return coefficients"
   ]
  },
  {
   "cell_type": "code",
   "execution_count": null,
   "metadata": {
    "collapsed": true
   },
   "outputs": [],
   "source": []
  }
 ],
 "metadata": {
  "kernelspec": {
   "display_name": "Python 2",
   "language": "python",
   "name": "python2"
  },
  "language_info": {
   "codemirror_mode": {
    "name": "ipython",
    "version": 2
   },
   "file_extension": ".py",
   "mimetype": "text/x-python",
   "name": "python",
   "nbconvert_exporter": "python",
   "pygments_lexer": "ipython2",
   "version": "2.7.11"
  }
 },
 "nbformat": 4,
 "nbformat_minor": 0
}
